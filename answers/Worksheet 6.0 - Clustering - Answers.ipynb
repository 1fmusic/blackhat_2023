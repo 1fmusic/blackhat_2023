{
 "cells": [
  {
   "cell_type": "markdown",
   "metadata": {},
   "source": [
    "<img src=\"../img/GTK_Logo_Social Icon.jpg\" width=175 align=\"right\" />\n",
    "\n",
    "\n",
    "# Worksheet 6.0 Clustering - Answers\n",
    "\n",
    "This worksheet covers concepts relating to Unsupervised Learning.  It should take no more than 20-30 minutes to complete.  Please raise your hand if you get stuck.  \n",
    "\n",
    "There are many ways to accomplish the tasks that you are presented with, however you will find that by using the techniques covered in class, the exercises should be relatively simple. \n",
    "\n",
    "## Import the Libraries\n",
    "For this exercise, we will be using:\n",
    "* Pandas (http://pandas.pydata.org/pandas-docs/stable/)\n",
    "* Numpy (https://docs.scipy.org/doc/numpy/reference/)\n",
    "* Matplotlib (http://matplotlib.org/api/pyplot_api.html)\n"
   ]
  },
  {
   "cell_type": "code",
   "execution_count": 1,
   "metadata": {
    "ExecuteTime": {
     "end_time": "2022-12-06T16:30:42.154611Z",
     "start_time": "2022-12-06T16:30:35.330346Z"
    },
    "run_control": {
     "frozen": false,
     "read_only": false
    }
   },
   "outputs": [],
   "source": [
    "import pandas as pd\n",
    "import numpy as np\n",
    "from sklearn.cluster import KMeans, MiniBatchKMeans, DBSCAN\n",
    "from sklearn.preprocessing import StandardScaler\n",
    "from yellowbrick.cluster import KElbowVisualizer, SilhouetteVisualizer\n",
    "import pandas as pd\n",
    "import matplotlib.pyplot as plt\n",
    "from matplotlib import style\n",
    "from scipy.spatial.distance import cdist\n",
    "style.use(\"ggplot\")\n",
    "%matplotlib inline"
   ]
  },
  {
   "cell_type": "markdown",
   "metadata": {},
   "source": [
    "# K-Means Clustering\n",
    "In this example notebook, you will see how to implement K-Means Clustering in Python using Scikit-Learn and Pandas. \n",
    "Adapted from https://pythonprogramming.net/flat-clustering-machine-learning-python-scikit-learn/\n",
    "\n",
    "## Step 1:  Get Data:\n",
    "The first step is to prepare or generate the data.  In this dataset, the observations only have two features, but K-Means can be used with any number of features.  Since this is an unsupervised example, it is not necessary to have a \"target\" column."
   ]
  },
  {
   "cell_type": "code",
   "execution_count": 2,
   "metadata": {
    "ExecuteTime": {
     "end_time": "2022-12-06T16:30:47.873524Z",
     "start_time": "2022-12-06T16:30:47.863429Z"
    },
    "run_control": {
     "frozen": false,
     "read_only": false
    }
   },
   "outputs": [
    {
     "name": "stdout",
     "output_type": "stream",
     "text": [
      "     x     y\n",
      "0  1.0   2.0\n",
      "1  5.0   8.0\n",
      "2  1.5   1.8\n",
      "3  8.0   8.0\n",
      "4  1.0   0.6\n",
      "5  9.0  11.0\n"
     ]
    }
   ],
   "source": [
    "data = pd.DataFrame([[1, 2],\n",
    "              [5, 8],\n",
    "              [1.5, 1.8],\n",
    "              [8, 8],\n",
    "              [1, 0.6],\n",
    "              [9, 11]], columns=['x','y'])\n",
    "print( data )"
   ]
  },
  {
   "cell_type": "markdown",
   "metadata": {},
   "source": [
    "## Step 2:  Build the Model:\n",
    "Much like the supervised models, you first create the model then call the `.fit()` method using your data source.  The model is now populated with both your centroids and labels.  These can be accessed via the `.cluster_centers_` and `labels_` properties respectively.\n",
    "\n",
    "You can view the complete documentation here: http://scikit-learn.org/stable/modules/generated/sklearn.cluster.KMeans.html\n",
    "\n",
    "K-Means also has a `.predict()` method which can be used to predict the label for an observation."
   ]
  },
  {
   "cell_type": "code",
   "execution_count": 3,
   "metadata": {
    "ExecuteTime": {
     "end_time": "2022-12-06T16:30:49.088487Z",
     "start_time": "2022-12-06T16:30:48.948020Z"
    },
    "run_control": {
     "frozen": false,
     "read_only": false
    }
   },
   "outputs": [
    {
     "name": "stdout",
     "output_type": "stream",
     "text": [
      "[[1.16666667 1.46666667]\n",
      " [7.33333333 9.        ]]\n",
      "[0 1 0 1 0 1]\n"
     ]
    }
   ],
   "source": [
    "kmeans = KMeans(n_clusters=2).fit(data)\n",
    "\n",
    "centroids = kmeans.cluster_centers_\n",
    "labels = kmeans.labels_\n",
    "\n",
    "print(centroids)\n",
    "print(labels)"
   ]
  },
  {
   "cell_type": "code",
   "execution_count": 4,
   "metadata": {
    "ExecuteTime": {
     "end_time": "2022-12-06T16:30:50.765656Z",
     "start_time": "2022-12-06T16:30:50.749309Z"
    },
    "run_control": {
     "frozen": false,
     "read_only": false
    }
   },
   "outputs": [
    {
     "name": "stdout",
     "output_type": "stream",
     "text": [
      "   0  1\n",
      "0  4  2\n"
     ]
    },
    {
     "name": "stderr",
     "output_type": "stream",
     "text": [
      "/Users/cgivre/opt/anaconda3/lib/python3.9/site-packages/sklearn/base.py:450: UserWarning: X does not have valid feature names, but KMeans was fitted with feature names\n",
      "  warnings.warn(\n"
     ]
    }
   ],
   "source": [
    "test = pd.DataFrame([[4,2]])\n",
    "\n",
    "kmeans.predict(test)\n",
    "print(test)"
   ]
  },
  {
   "cell_type": "markdown",
   "metadata": {},
   "source": [
    "# Visualizing the Clusters\n",
    "The code below visualizes the clusters.  "
   ]
  },
  {
   "cell_type": "code",
   "execution_count": 5,
   "metadata": {
    "ExecuteTime": {
     "end_time": "2022-12-06T16:31:03.553438Z",
     "start_time": "2022-12-06T16:31:03.281663Z"
    },
    "run_control": {
     "frozen": false,
     "read_only": false
    }
   },
   "outputs": [
    {
     "data": {
      "image/png": "[encoded data removed]",
      "text/plain": [
       "<Figure size 800x550 with 1 Axes>"
      ]
     },
     "metadata": {},
     "output_type": "display_data"
    }
   ],
   "source": [
    "data['labels'] = labels\n",
    "\n",
    "#plt.plot(data, colors[data['labels'], markersize = 10)\n",
    "\n",
    "group1 = data[data['labels']==1].plot( kind='scatter', x='x', y='y',  s=100, color='DarkGreen', label=\"Group 1\" )\n",
    "group2 = data[data['labels']==0].plot( kind='scatter', x='x', y='y', s=100,color='Brown', ax=group1, label=\"Group 2\" )\n",
    "group1.legend(loc='upper center', bbox_to_anchor=(0.5, 1.05),\n",
    "          ncol=3, fancybox=True, shadow=True)\n",
    "plt.scatter(centroids[:, 0],centroids[:, 1], marker = \"x\", s=150, linewidths = 5, zorder = 10)\n",
    "\n",
    "plt.show()"
   ]
  },
  {
   "cell_type": "markdown",
   "metadata": {},
   "source": [
    "# Clustering with Real Data\n",
    "Now that you've tried K-means on some generated data, let's try it on some real data and see what we can produce. As before the first step is to read in the data into a DataFrame.  \n",
    "\n",
    "We will be using this data later, but the dataset consists of approximately 6000 domains--5000 of which were generated by various botnets and 1000 are from the Alexa 1 Million.  The columns are:\n",
    "\n",
    "* `dsrc`:  The source of the domain\n",
    "* `domain`:  The actual domain\n",
    "* `length`:  The length of the domain\n",
    "* `dicts`:  Percentage containing dictionary words\n",
    "* `entropy`:  The entropy of the domain\n",
    "* `numbers`:  The number of digits in the domain\n",
    "* `ngram`:  Different n-grams which appear in the domain (?)"
   ]
  },
  {
   "cell_type": "code",
   "execution_count": 7,
   "metadata": {
    "ExecuteTime": {
     "end_time": "2022-12-06T16:31:31.132871Z",
     "start_time": "2022-12-06T16:31:31.048618Z"
    },
    "run_control": {
     "frozen": false,
     "read_only": false
    }
   },
   "outputs": [
    {
     "data": {
      "text/html": [
       "<div>\n",
       "<style scoped>\n",
       "    .dataframe tbody tr th:only-of-type {\n",
       "        vertical-align: middle;\n",
       "    }\n",
       "\n",
       "    .dataframe tbody tr th {\n",
       "        vertical-align: top;\n",
       "    }\n",
       "\n",
       "    .dataframe thead th {\n",
       "        text-align: right;\n",
       "    }\n",
       "</style>\n",
       "<table border=\"1\" class=\"dataframe\">\n",
       "  <thead>\n",
       "    <tr style=\"text-align: right;\">\n",
       "      <th></th>\n",
       "      <th>dsrc</th>\n",
       "      <th>domain</th>\n",
       "      <th>length</th>\n",
       "      <th>dicts</th>\n",
       "      <th>entropy</th>\n",
       "      <th>numbers</th>\n",
       "      <th>ngram</th>\n",
       "    </tr>\n",
       "  </thead>\n",
       "  <tbody>\n",
       "    <tr>\n",
       "      <th>49941</th>\n",
       "      <td>alexa</td>\n",
       "      <td>pro-tv</td>\n",
       "      <td>6</td>\n",
       "      <td>0.5</td>\n",
       "      <td>2.584963</td>\n",
       "      <td>0</td>\n",
       "      <td>3.382377</td>\n",
       "    </tr>\n",
       "    <tr>\n",
       "      <th>35332</th>\n",
       "      <td>nivdort</td>\n",
       "      <td>dutyshown</td>\n",
       "      <td>9</td>\n",
       "      <td>1.0</td>\n",
       "      <td>3.169925</td>\n",
       "      <td>0</td>\n",
       "      <td>7.284858</td>\n",
       "    </tr>\n",
       "    <tr>\n",
       "      <th>41469</th>\n",
       "      <td>nivdort</td>\n",
       "      <td>arivelight</td>\n",
       "      <td>10</td>\n",
       "      <td>1.0</td>\n",
       "      <td>3.121928</td>\n",
       "      <td>0</td>\n",
       "      <td>14.773868</td>\n",
       "    </tr>\n",
       "    <tr>\n",
       "      <th>48128</th>\n",
       "      <td>alexa</td>\n",
       "      <td>parwise</td>\n",
       "      <td>7</td>\n",
       "      <td>1.0</td>\n",
       "      <td>2.807355</td>\n",
       "      <td>0</td>\n",
       "      <td>4.379668</td>\n",
       "    </tr>\n",
       "    <tr>\n",
       "      <th>20791</th>\n",
       "      <td>gameoverdga</td>\n",
       "      <td>1qjx5qth9s6qhc1xjo4b82ph0</td>\n",
       "      <td>25</td>\n",
       "      <td>0.0</td>\n",
       "      <td>4.023465</td>\n",
       "      <td>9</td>\n",
       "      <td>0.000000</td>\n",
       "    </tr>\n",
       "  </tbody>\n",
       "</table>\n",
       "</div>"
      ],
      "text/plain": [
       "              dsrc                     domain  length  dicts   entropy  \\\n",
       "49941        alexa                     pro-tv       6    0.5  2.584963   \n",
       "35332      nivdort                  dutyshown       9    1.0  3.169925   \n",
       "41469      nivdort                 arivelight      10    1.0  3.121928   \n",
       "48128        alexa                    parwise       7    1.0  2.807355   \n",
       "20791  gameoverdga  1qjx5qth9s6qhc1xjo4b82ph0      25    0.0  4.023465   \n",
       "\n",
       "       numbers      ngram  \n",
       "49941        0   3.382377  \n",
       "35332        0   7.284858  \n",
       "41469        0  14.773868  \n",
       "48128        0   4.379668  \n",
       "20791        9   0.000000  "
      ]
     },
     "execution_count": 7,
     "metadata": {},
     "output_type": "execute_result"
    }
   ],
   "source": [
    "data = pd.read_csv('../data/dga-full.csv')\n",
    "data.sample(5)"
   ]
  },
  {
   "cell_type": "code",
   "execution_count": 8,
   "metadata": {
    "ExecuteTime": {
     "end_time": "2022-12-06T16:31:34.152243Z",
     "start_time": "2022-12-06T16:31:34.141341Z"
    }
   },
   "outputs": [
    {
     "data": {
      "text/plain": [
       "cryptolocker    10000\n",
       "gameoverdga     10000\n",
       "necurs          10000\n",
       "alexa           10000\n",
       "nivdort          9978\n",
       "bamital          2500\n",
       "Name: dsrc, dtype: int64"
      ]
     },
     "execution_count": 8,
     "metadata": {},
     "output_type": "execute_result"
    }
   ],
   "source": [
    "data['dsrc'].value_counts()"
   ]
  },
  {
   "cell_type": "markdown",
   "metadata": {},
   "source": [
    "## Scaling the Data\n",
    "Since clustering relies on measuring distances between objects it is important that all data points be on the same scale.  There are various methods for doing this, which are beyond the scope of this class, however, for this example, we will use scikit-learn's `StandardScaler` to accomplish this.  (http://scikit-learn.org/stable/modules/generated/sklearn.preprocessing.StandardScaler.html)\n",
    "\n",
    "The StandardScaler transforms each column by:\n",
    "* Subtracting from the element in each row the mean for each feature (column) and then taking this value and\n",
    "* Dividing by that feature's (column's) standard deviation.\n",
    "\n",
    "Scikit-learn has a transformer interface which is very similar to the other scikit-learn interfaces.  The basic steps are:\n",
    "1.  Create the Scaler object\n",
    "2.  Using the feature matrix, call the `.fit()` method to \"train\" the Scaler\n",
    "3.  Use the `.transform()` method to scale the data.\n",
    "\n",
    "**NOTE**: When using a Scaler, it is important to train the scaler on your data, and use this trained scalers on any future predictions. "
   ]
  },
  {
   "cell_type": "code",
   "execution_count": 9,
   "metadata": {
    "ExecuteTime": {
     "end_time": "2022-12-06T16:32:46.682295Z",
     "start_time": "2022-12-06T16:32:46.676826Z"
    },
    "run_control": {
     "frozen": false,
     "read_only": false
    }
   },
   "outputs": [],
   "source": [
    "feature_columns = ['length', 'dicts','entropy','numbers','ngram']\n",
    "scaled_feature_columns = ['scaled_length', 'scaled_dicts','scaled_entropy','scaled_numbers','scaled_ngram']"
   ]
  },
  {
   "cell_type": "code",
   "execution_count": 10,
   "metadata": {
    "ExecuteTime": {
     "end_time": "2022-12-06T16:33:02.844271Z",
     "start_time": "2022-12-06T16:33:02.828263Z"
    },
    "run_control": {
     "frozen": false,
     "read_only": false
    }
   },
   "outputs": [],
   "source": [
    "#Step 1:  Create the scaler\n",
    "scaler = StandardScaler()\n",
    "\n",
    "#Steps 2 & 3:  Fit the scaler and transform this data\n",
    "scaled_df = scaler.fit_transform(data[feature_columns])\n",
    "\n",
    "#Put the scaled data into a dataframe\n",
    "scaled_df = pd.DataFrame(scaled_df, columns=scaled_feature_columns)"
   ]
  },
  {
   "cell_type": "markdown",
   "metadata": {},
   "source": [
    "Take a look at the data and you'll see that the data is now all scaled consistently. "
   ]
  },
  {
   "cell_type": "code",
   "execution_count": 11,
   "metadata": {
    "ExecuteTime": {
     "end_time": "2022-12-06T16:33:42.423945Z",
     "start_time": "2022-12-06T16:33:42.409211Z"
    },
    "run_control": {
     "frozen": false,
     "read_only": false
    },
    "scrolled": true
   },
   "outputs": [
    {
     "data": {
      "text/html": [
       "<div>\n",
       "<style scoped>\n",
       "    .dataframe tbody tr th:only-of-type {\n",
       "        vertical-align: middle;\n",
       "    }\n",
       "\n",
       "    .dataframe tbody tr th {\n",
       "        vertical-align: top;\n",
       "    }\n",
       "\n",
       "    .dataframe thead th {\n",
       "        text-align: right;\n",
       "    }\n",
       "</style>\n",
       "<table border=\"1\" class=\"dataframe\">\n",
       "  <thead>\n",
       "    <tr style=\"text-align: right;\">\n",
       "      <th></th>\n",
       "      <th>scaled_length</th>\n",
       "      <th>scaled_dicts</th>\n",
       "      <th>scaled_entropy</th>\n",
       "      <th>scaled_numbers</th>\n",
       "      <th>scaled_ngram</th>\n",
       "    </tr>\n",
       "  </thead>\n",
       "  <tbody>\n",
       "    <tr>\n",
       "      <th>30306</th>\n",
       "      <td>-0.933453</td>\n",
       "      <td>-0.229954</td>\n",
       "      <td>-1.427975</td>\n",
       "      <td>-0.498385</td>\n",
       "      <td>-0.624587</td>\n",
       "    </tr>\n",
       "    <tr>\n",
       "      <th>23594</th>\n",
       "      <td>-0.933453</td>\n",
       "      <td>-0.573642</td>\n",
       "      <td>-0.402714</td>\n",
       "      <td>-0.498385</td>\n",
       "      <td>-0.535302</td>\n",
       "    </tr>\n",
       "    <tr>\n",
       "      <th>32383</th>\n",
       "      <td>-1.064714</td>\n",
       "      <td>-1.604706</td>\n",
       "      <td>-1.227875</td>\n",
       "      <td>-0.498385</td>\n",
       "      <td>-0.699054</td>\n",
       "    </tr>\n",
       "    <tr>\n",
       "      <th>29584</th>\n",
       "      <td>-0.014622</td>\n",
       "      <td>0.228297</td>\n",
       "      <td>0.241666</td>\n",
       "      <td>-0.498385</td>\n",
       "      <td>-0.609769</td>\n",
       "    </tr>\n",
       "    <tr>\n",
       "      <th>36183</th>\n",
       "      <td>-0.933453</td>\n",
       "      <td>1.144799</td>\n",
       "      <td>-0.402714</td>\n",
       "      <td>-0.498385</td>\n",
       "      <td>0.527146</td>\n",
       "    </tr>\n",
       "    <tr>\n",
       "      <th>30008</th>\n",
       "      <td>-0.145884</td>\n",
       "      <td>0.359226</td>\n",
       "      <td>0.157669</td>\n",
       "      <td>-0.498385</td>\n",
       "      <td>-0.338959</td>\n",
       "    </tr>\n",
       "    <tr>\n",
       "      <th>22077</th>\n",
       "      <td>1.560515</td>\n",
       "      <td>-1.299205</td>\n",
       "      <td>0.636271</td>\n",
       "      <td>1.970035</td>\n",
       "      <td>-0.699054</td>\n",
       "    </tr>\n",
       "    <tr>\n",
       "      <th>5439</th>\n",
       "      <td>-0.145884</td>\n",
       "      <td>-0.033560</td>\n",
       "      <td>0.404095</td>\n",
       "      <td>-0.498385</td>\n",
       "      <td>-0.699054</td>\n",
       "    </tr>\n",
       "    <tr>\n",
       "      <th>41429</th>\n",
       "      <td>0.116639</td>\n",
       "      <td>1.144799</td>\n",
       "      <td>0.459777</td>\n",
       "      <td>-0.498385</td>\n",
       "      <td>3.245600</td>\n",
       "    </tr>\n",
       "    <tr>\n",
       "      <th>28250</th>\n",
       "      <td>-0.408407</td>\n",
       "      <td>0.457423</td>\n",
       "      <td>0.031342</td>\n",
       "      <td>-0.498385</td>\n",
       "      <td>0.258055</td>\n",
       "    </tr>\n",
       "  </tbody>\n",
       "</table>\n",
       "</div>"
      ],
      "text/plain": [
       "       scaled_length  scaled_dicts  scaled_entropy  scaled_numbers  \\\n",
       "30306      -0.933453     -0.229954       -1.427975       -0.498385   \n",
       "23594      -0.933453     -0.573642       -0.402714       -0.498385   \n",
       "32383      -1.064714     -1.604706       -1.227875       -0.498385   \n",
       "29584      -0.014622      0.228297        0.241666       -0.498385   \n",
       "36183      -0.933453      1.144799       -0.402714       -0.498385   \n",
       "30008      -0.145884      0.359226        0.157669       -0.498385   \n",
       "22077       1.560515     -1.299205        0.636271        1.970035   \n",
       "5439       -0.145884     -0.033560        0.404095       -0.498385   \n",
       "41429       0.116639      1.144799        0.459777       -0.498385   \n",
       "28250      -0.408407      0.457423        0.031342       -0.498385   \n",
       "\n",
       "       scaled_ngram  \n",
       "30306     -0.624587  \n",
       "23594     -0.535302  \n",
       "32383     -0.699054  \n",
       "29584     -0.609769  \n",
       "36183      0.527146  \n",
       "30008     -0.338959  \n",
       "22077     -0.699054  \n",
       "5439      -0.699054  \n",
       "41429      3.245600  \n",
       "28250      0.258055  "
      ]
     },
     "execution_count": 11,
     "metadata": {},
     "output_type": "execute_result"
    }
   ],
   "source": [
    "scaled_df.sample(10)"
   ]
  },
  {
   "cell_type": "markdown",
   "metadata": {},
   "source": [
    "Finally for convenience, we're going to merge the scaled data with the non-scaled data.  "
   ]
  },
  {
   "cell_type": "code",
   "execution_count": 12,
   "metadata": {
    "ExecuteTime": {
     "end_time": "2022-12-06T16:33:47.397679Z",
     "start_time": "2022-12-06T16:33:47.389989Z"
    },
    "run_control": {
     "frozen": false,
     "read_only": false
    }
   },
   "outputs": [],
   "source": [
    "final_data = pd.merge( data, scaled_df, left_index=True, right_index=True)"
   ]
  },
  {
   "cell_type": "code",
   "execution_count": 13,
   "metadata": {
    "ExecuteTime": {
     "end_time": "2022-12-06T16:33:48.208804Z",
     "start_time": "2022-12-06T16:33:48.189741Z"
    },
    "run_control": {
     "frozen": false,
     "read_only": false
    }
   },
   "outputs": [
    {
     "data": {
      "text/html": [
       "<div>\n",
       "<style scoped>\n",
       "    .dataframe tbody tr th:only-of-type {\n",
       "        vertical-align: middle;\n",
       "    }\n",
       "\n",
       "    .dataframe tbody tr th {\n",
       "        vertical-align: top;\n",
       "    }\n",
       "\n",
       "    .dataframe thead th {\n",
       "        text-align: right;\n",
       "    }\n",
       "</style>\n",
       "<table border=\"1\" class=\"dataframe\">\n",
       "  <thead>\n",
       "    <tr style=\"text-align: right;\">\n",
       "      <th></th>\n",
       "      <th>dsrc</th>\n",
       "      <th>domain</th>\n",
       "      <th>length</th>\n",
       "      <th>dicts</th>\n",
       "      <th>entropy</th>\n",
       "      <th>numbers</th>\n",
       "      <th>ngram</th>\n",
       "      <th>scaled_length</th>\n",
       "      <th>scaled_dicts</th>\n",
       "      <th>scaled_entropy</th>\n",
       "      <th>scaled_numbers</th>\n",
       "      <th>scaled_ngram</th>\n",
       "    </tr>\n",
       "  </thead>\n",
       "  <tbody>\n",
       "    <tr>\n",
       "      <th>45709</th>\n",
       "      <td>alexa</td>\n",
       "      <td>kyk</td>\n",
       "      <td>3</td>\n",
       "      <td>0.000000</td>\n",
       "      <td>0.918296</td>\n",
       "      <td>0</td>\n",
       "      <td>0.000000</td>\n",
       "      <td>-1.589760</td>\n",
       "      <td>-1.604706</td>\n",
       "      <td>-3.993614</td>\n",
       "      <td>-0.498385</td>\n",
       "      <td>-0.811719</td>\n",
       "    </tr>\n",
       "    <tr>\n",
       "      <th>50043</th>\n",
       "      <td>alexa</td>\n",
       "      <td>maghreb24tv</td>\n",
       "      <td>11</td>\n",
       "      <td>0.636364</td>\n",
       "      <td>3.459432</td>\n",
       "      <td>2</td>\n",
       "      <td>2.845098</td>\n",
       "      <td>-0.539668</td>\n",
       "      <td>0.144979</td>\n",
       "      <td>0.389797</td>\n",
       "      <td>-0.118628</td>\n",
       "      <td>-0.279309</td>\n",
       "    </tr>\n",
       "    <tr>\n",
       "      <th>27968</th>\n",
       "      <td>necurs</td>\n",
       "      <td>rvwllxggbrtwcchgvfpn</td>\n",
       "      <td>20</td>\n",
       "      <td>0.450000</td>\n",
       "      <td>3.584184</td>\n",
       "      <td>0</td>\n",
       "      <td>0.000000</td>\n",
       "      <td>0.641685</td>\n",
       "      <td>-0.367429</td>\n",
       "      <td>0.604992</td>\n",
       "      <td>-0.498385</td>\n",
       "      <td>-0.811719</td>\n",
       "    </tr>\n",
       "    <tr>\n",
       "      <th>47913</th>\n",
       "      <td>alexa</td>\n",
       "      <td>tu-berlin</td>\n",
       "      <td>9</td>\n",
       "      <td>0.666667</td>\n",
       "      <td>3.169925</td>\n",
       "      <td>0</td>\n",
       "      <td>6.287891</td>\n",
       "      <td>-0.802191</td>\n",
       "      <td>0.228297</td>\n",
       "      <td>-0.109596</td>\n",
       "      <td>-0.498385</td>\n",
       "      <td>0.364949</td>\n",
       "    </tr>\n",
       "    <tr>\n",
       "      <th>17679</th>\n",
       "      <td>gameoverdga</td>\n",
       "      <td>172zulu1rh3enlcrmlpf16jp0oy</td>\n",
       "      <td>27</td>\n",
       "      <td>0.444444</td>\n",
       "      <td>4.180451</td>\n",
       "      <td>8</td>\n",
       "      <td>1.322219</td>\n",
       "      <td>1.560515</td>\n",
       "      <td>-0.382704</td>\n",
       "      <td>1.633543</td>\n",
       "      <td>1.020643</td>\n",
       "      <td>-0.564289</td>\n",
       "    </tr>\n",
       "  </tbody>\n",
       "</table>\n",
       "</div>"
      ],
      "text/plain": [
       "              dsrc                       domain  length     dicts   entropy  \\\n",
       "45709        alexa                          kyk       3  0.000000  0.918296   \n",
       "50043        alexa                  maghreb24tv      11  0.636364  3.459432   \n",
       "27968       necurs         rvwllxggbrtwcchgvfpn      20  0.450000  3.584184   \n",
       "47913        alexa                    tu-berlin       9  0.666667  3.169925   \n",
       "17679  gameoverdga  172zulu1rh3enlcrmlpf16jp0oy      27  0.444444  4.180451   \n",
       "\n",
       "       numbers     ngram  scaled_length  scaled_dicts  scaled_entropy  \\\n",
       "45709        0  0.000000      -1.589760     -1.604706       -3.993614   \n",
       "50043        2  2.845098      -0.539668      0.144979        0.389797   \n",
       "27968        0  0.000000       0.641685     -0.367429        0.604992   \n",
       "47913        0  6.287891      -0.802191      0.228297       -0.109596   \n",
       "17679        8  1.322219       1.560515     -0.382704        1.633543   \n",
       "\n",
       "       scaled_numbers  scaled_ngram  \n",
       "45709       -0.498385     -0.811719  \n",
       "50043       -0.118628     -0.279309  \n",
       "27968       -0.498385     -0.811719  \n",
       "47913       -0.498385      0.364949  \n",
       "17679        1.020643     -0.564289  "
      ]
     },
     "execution_count": 13,
     "metadata": {},
     "output_type": "execute_result"
    }
   ],
   "source": [
    "final_data.sample(5)"
   ]
  },
  {
   "cell_type": "markdown",
   "metadata": {},
   "source": [
    "### Your Turn!\n",
    "Now that we have data that is suitable (maybe) for clustering, in the section below, perform K-Means clustering on this data set.  Initially, start out with 2 clusters and assign the `cluster id` as a column in your DataFrame.\n",
    "\n",
    "Then do a `value_counts()` on the `dsrc` column for each cluster to see how the model divided the data.  Try various values for `k` to see how it performed.\n",
    "\n",
    "Remember to use the **scaled features** for your clustering.  "
   ]
  },
  {
   "cell_type": "code",
   "execution_count": 14,
   "metadata": {
    "ExecuteTime": {
     "end_time": "2022-12-06T16:34:18.450543Z",
     "start_time": "2022-12-06T16:34:18.284648Z"
    },
    "run_control": {
     "frozen": false,
     "read_only": false
    }
   },
   "outputs": [
    {
     "name": "stdout",
     "output_type": "stream",
     "text": [
      "[[-0.49760996  0.3716326  -0.3885456  -0.4893535   0.20109624]\n",
      " [ 1.56899145 -1.17177795  1.22510555  1.5429584  -0.63406745]]\n",
      "[1 1 1 ... 0 0 0]\n"
     ]
    }
   ],
   "source": [
    "## Your code here...\n",
    "\n",
    "kmeans = KMeans(n_clusters=2).fit(final_data[scaled_feature_columns])\n",
    "\n",
    "centroids = kmeans.cluster_centers_\n",
    "labels = kmeans.labels_\n",
    "\n",
    "print(centroids)\n",
    "print(labels)"
   ]
  },
  {
   "cell_type": "code",
   "execution_count": 15,
   "metadata": {
    "ExecuteTime": {
     "end_time": "2022-12-06T16:34:21.767297Z",
     "start_time": "2022-12-06T16:34:21.758959Z"
    },
    "run_control": {
     "frozen": false,
     "read_only": false
    }
   },
   "outputs": [
    {
     "data": {
      "text/plain": [
       "cryptolocker    10000\n",
       "gameoverdga     10000\n",
       "necurs          10000\n",
       "alexa           10000\n",
       "nivdort          9978\n",
       "bamital          2500\n",
       "Name: dsrc, dtype: int64"
      ]
     },
     "execution_count": 15,
     "metadata": {},
     "output_type": "execute_result"
    }
   ],
   "source": [
    "final_data['dsrc'].value_counts()"
   ]
  },
  {
   "cell_type": "code",
   "execution_count": 16,
   "metadata": {
    "ExecuteTime": {
     "end_time": "2022-12-06T16:34:26.738604Z",
     "start_time": "2022-12-06T16:34:26.734997Z"
    },
    "run_control": {
     "frozen": false,
     "read_only": false
    }
   },
   "outputs": [],
   "source": [
    "final_data['cluster_id'] = kmeans.labels_"
   ]
  },
  {
   "cell_type": "code",
   "execution_count": 18,
   "metadata": {
    "ExecuteTime": {
     "end_time": "2022-12-06T16:34:37.640485Z",
     "start_time": "2022-12-06T16:34:37.634565Z"
    },
    "run_control": {
     "frozen": false,
     "read_only": false
    }
   },
   "outputs": [
    {
     "data": {
      "text/plain": [
       "0    39842\n",
       "1    12636\n",
       "Name: cluster_id, dtype: int64"
      ]
     },
     "execution_count": 18,
     "metadata": {},
     "output_type": "execute_result"
    }
   ],
   "source": [
    "final_data['cluster_id'].value_counts()"
   ]
  },
  {
   "cell_type": "code",
   "execution_count": 25,
   "metadata": {
    "ExecuteTime": {
     "end_time": "2022-12-06T16:36:58.193787Z",
     "start_time": "2022-12-06T16:36:58.186602Z"
    },
    "run_control": {
     "frozen": false,
     "read_only": false
    }
   },
   "outputs": [
    {
     "data": {
      "text/plain": [
       "gameoverdga    9993\n",
       "bamital        2500\n",
       "necurs          140\n",
       "alexa             3\n",
       "Name: dsrc, dtype: int64"
      ]
     },
     "execution_count": 25,
     "metadata": {},
     "output_type": "execute_result"
    }
   ],
   "source": [
    "final_data[final_data['cluster_id'] == 1]['dsrc'].value_counts()"
   ]
  },
  {
   "cell_type": "code",
   "execution_count": 24,
   "metadata": {
    "ExecuteTime": {
     "end_time": "2022-12-06T16:36:13.982476Z",
     "start_time": "2022-12-06T16:36:13.971676Z"
    }
   },
   "outputs": [
    {
     "data": {
      "text/plain": [
       "30246      smgmkaycqy\n",
       "10718    yneehudaphxq\n",
       "47999       joycasino\n",
       "36527        meatkind\n",
       "25364        lekqljsx\n",
       "Name: domain, dtype: object"
      ]
     },
     "execution_count": 24,
     "metadata": {},
     "output_type": "execute_result"
    }
   ],
   "source": [
    "final_data[final_data['cluster_id'] == 0]['domain'].sample(5)"
   ]
  },
  {
   "cell_type": "code",
   "execution_count": 24,
   "metadata": {
    "ExecuteTime": {
     "end_time": "2020-09-30T09:05:10.475503Z",
     "start_time": "2020-09-30T09:05:10.467069Z"
    }
   },
   "outputs": [
    {
     "data": {
      "text/plain": [
       "12137     vyhrysjqfnujcx\n",
       "10214     jeorpwrrldypfo\n",
       "8861        xpfiamqibywo\n",
       "3246     aqxesbvejqssleq\n",
       "4597       ugaeihhxfgcec\n",
       "Name: domain, dtype: object"
      ]
     },
     "execution_count": 24,
     "metadata": {},
     "output_type": "execute_result"
    }
   ],
   "source": [
    "final_data['domain'][final_data['dsrc'] == 'cryptolocker'].sample(5)"
   ]
  },
  {
   "cell_type": "code",
   "execution_count": 22,
   "metadata": {
    "ExecuteTime": {
     "end_time": "2020-09-30T09:04:38.245492Z",
     "start_time": "2020-09-30T09:04:38.235419Z"
    },
    "run_control": {
     "frozen": false,
     "read_only": false
    }
   },
   "outputs": [
    {
     "data": {
      "text/plain": [
       "391     dce6735a774f1e65ff4f922aa47076fe\n",
       "540     580c37c76fba54c23b4f7efd6ed7a7d0\n",
       "25      4a133624d27fc1990e0d1718cfb50ec5\n",
       "1264    f896bef76490cf27eb5ce9dcc8ff5dc7\n",
       "1714    e1be5068b1e32159e7fba02360d130d3\n",
       "1211    1efbd5c33168bc407e02760b40c7eed7\n",
       "1969    99404b0dc62222b4c1b0a40578213eb6\n",
       "1816    305e6f636225859f33e0b6703807ca0f\n",
       "1837    65b525dd8e4cd6c7c1fcbca153041b9c\n",
       "400     427b2f9201fb05a8fbad560576ce047b\n",
       "Name: domain, dtype: object"
      ]
     },
     "execution_count": 22,
     "metadata": {},
     "output_type": "execute_result"
    }
   ],
   "source": [
    "final_data[final_data['dsrc'] == \"bamital\"]['domain'].sample(10)"
   ]
  },
  {
   "cell_type": "code",
   "execution_count": 20,
   "metadata": {
    "ExecuteTime": {
     "end_time": "2020-07-30T14:50:37.781825Z",
     "start_time": "2020-07-30T14:50:37.771591Z"
    },
    "run_control": {
     "frozen": false,
     "read_only": false
    }
   },
   "outputs": [
    {
     "data": {
      "text/plain": [
       "42159      deadhand\n",
       "40008     songwhere\n",
       "34975      hangrain\n",
       "37684      thisname\n",
       "37080      jumpopen\n",
       "40963     pickcould\n",
       "41794     whichaunt\n",
       "42214     wishsince\n",
       "33581     watchfeed\n",
       "39329    sundayride\n",
       "Name: domain, dtype: object"
      ]
     },
     "execution_count": 20,
     "metadata": {},
     "output_type": "execute_result"
    }
   ],
   "source": [
    "final_data[final_data['dsrc'] == \"nivdort\"]['domain'].sample(10)"
   ]
  },
  {
   "cell_type": "code",
   "execution_count": 21,
   "metadata": {
    "ExecuteTime": {
     "end_time": "2020-07-30T14:50:38.535616Z",
     "start_time": "2020-07-30T14:50:38.524880Z"
    },
    "run_control": {
     "frozen": false,
     "read_only": false
    }
   },
   "outputs": [
    {
     "data": {
      "text/plain": [
       "22500       aqpoesogafvwyvlog\n",
       "22501                 iwxdakv\n",
       "22502            qwotyugasduc\n",
       "22503          fywbpebyvhgbov\n",
       "22504          lwmgjqvhpwiabx\n",
       "                 ...         \n",
       "32495                chdxyfak\n",
       "32496             upgclshimcu\n",
       "32497                ygtwdecs\n",
       "32498    jcbwowxlmhpawfuwfjyn\n",
       "32499                 vpvlyut\n",
       "Name: domain, Length: 9860, dtype: object"
      ]
     },
     "execution_count": 21,
     "metadata": {},
     "output_type": "execute_result"
    }
   ],
   "source": [
    "final_data[(final_data['cluster_id'] == 1) & (final_data['dsrc'] == 'necurs')]['domain']"
   ]
  },
  {
   "cell_type": "code",
   "execution_count": 22,
   "metadata": {
    "ExecuteTime": {
     "end_time": "2020-07-30T14:50:40.128862Z",
     "start_time": "2020-07-30T14:50:40.112892Z"
    },
    "run_control": {
     "frozen": false,
     "read_only": false
    }
   },
   "outputs": [
    {
     "data": {
      "text/html": [
       "<div>\n",
       "<style scoped>\n",
       "    .dataframe tbody tr th:only-of-type {\n",
       "        vertical-align: middle;\n",
       "    }\n",
       "\n",
       "    .dataframe tbody tr th {\n",
       "        vertical-align: top;\n",
       "    }\n",
       "\n",
       "    .dataframe thead th {\n",
       "        text-align: right;\n",
       "    }\n",
       "</style>\n",
       "<table border=\"1\" class=\"dataframe\">\n",
       "  <thead>\n",
       "    <tr style=\"text-align: right;\">\n",
       "      <th></th>\n",
       "      <th>dsrc</th>\n",
       "      <th>domain</th>\n",
       "      <th>length</th>\n",
       "      <th>dicts</th>\n",
       "      <th>entropy</th>\n",
       "      <th>numbers</th>\n",
       "      <th>ngram</th>\n",
       "      <th>scaled_length</th>\n",
       "      <th>scaled_dicts</th>\n",
       "      <th>scaled_entropy</th>\n",
       "      <th>scaled_numbers</th>\n",
       "      <th>scaled_ngram</th>\n",
       "      <th>cluster_id</th>\n",
       "    </tr>\n",
       "  </thead>\n",
       "  <tbody>\n",
       "    <tr>\n",
       "      <th>15754</th>\n",
       "      <td>gameoverdga</td>\n",
       "      <td>9eoyb91e1cbf6d0yv151w7lp7u</td>\n",
       "      <td>26</td>\n",
       "      <td>0.000000</td>\n",
       "      <td>4.008132</td>\n",
       "      <td>11</td>\n",
       "      <td>0.000000</td>\n",
       "      <td>1.429253</td>\n",
       "      <td>-1.604706</td>\n",
       "      <td>1.336295</td>\n",
       "      <td>1.590278</td>\n",
       "      <td>-0.811719</td>\n",
       "      <td>0</td>\n",
       "    </tr>\n",
       "    <tr>\n",
       "      <th>42197</th>\n",
       "      <td>nivdort</td>\n",
       "      <td>frontsince</td>\n",
       "      <td>10</td>\n",
       "      <td>1.000000</td>\n",
       "      <td>3.121928</td>\n",
       "      <td>0</td>\n",
       "      <td>13.903036</td>\n",
       "      <td>-0.670930</td>\n",
       "      <td>1.144799</td>\n",
       "      <td>-0.192390</td>\n",
       "      <td>-0.498385</td>\n",
       "      <td>1.789988</td>\n",
       "      <td>1</td>\n",
       "    </tr>\n",
       "    <tr>\n",
       "      <th>49084</th>\n",
       "      <td>alexa</td>\n",
       "      <td>identityguard</td>\n",
       "      <td>13</td>\n",
       "      <td>1.000000</td>\n",
       "      <td>3.238901</td>\n",
       "      <td>0</td>\n",
       "      <td>16.569908</td>\n",
       "      <td>-0.277145</td>\n",
       "      <td>1.144799</td>\n",
       "      <td>0.009387</td>\n",
       "      <td>-0.498385</td>\n",
       "      <td>2.289046</td>\n",
       "      <td>1</td>\n",
       "    </tr>\n",
       "    <tr>\n",
       "      <th>232</th>\n",
       "      <td>bamital</td>\n",
       "      <td>0da46c065088768316c51d6a98d816e9</td>\n",
       "      <td>32</td>\n",
       "      <td>0.000000</td>\n",
       "      <td>3.456748</td>\n",
       "      <td>24</td>\n",
       "      <td>0.000000</td>\n",
       "      <td>2.216822</td>\n",
       "      <td>-1.604706</td>\n",
       "      <td>0.385167</td>\n",
       "      <td>4.058697</td>\n",
       "      <td>-0.811719</td>\n",
       "      <td>0</td>\n",
       "    </tr>\n",
       "    <tr>\n",
       "      <th>26802</th>\n",
       "      <td>necurs</td>\n",
       "      <td>eiwerppfqgoksam</td>\n",
       "      <td>15</td>\n",
       "      <td>0.666667</td>\n",
       "      <td>3.640224</td>\n",
       "      <td>0</td>\n",
       "      <td>4.698275</td>\n",
       "      <td>-0.014622</td>\n",
       "      <td>0.228297</td>\n",
       "      <td>0.701661</td>\n",
       "      <td>-0.498385</td>\n",
       "      <td>0.067480</td>\n",
       "      <td>1</td>\n",
       "    </tr>\n",
       "  </tbody>\n",
       "</table>\n",
       "</div>"
      ],
      "text/plain": [
       "              dsrc                            domain  length     dicts  \\\n",
       "15754  gameoverdga        9eoyb91e1cbf6d0yv151w7lp7u      26  0.000000   \n",
       "42197      nivdort                        frontsince      10  1.000000   \n",
       "49084        alexa                     identityguard      13  1.000000   \n",
       "232        bamital  0da46c065088768316c51d6a98d816e9      32  0.000000   \n",
       "26802       necurs                   eiwerppfqgoksam      15  0.666667   \n",
       "\n",
       "        entropy  numbers      ngram  scaled_length  scaled_dicts  \\\n",
       "15754  4.008132       11   0.000000       1.429253     -1.604706   \n",
       "42197  3.121928        0  13.903036      -0.670930      1.144799   \n",
       "49084  3.238901        0  16.569908      -0.277145      1.144799   \n",
       "232    3.456748       24   0.000000       2.216822     -1.604706   \n",
       "26802  3.640224        0   4.698275      -0.014622      0.228297   \n",
       "\n",
       "       scaled_entropy  scaled_numbers  scaled_ngram  cluster_id  \n",
       "15754        1.336295        1.590278     -0.811719           0  \n",
       "42197       -0.192390       -0.498385      1.789988           1  \n",
       "49084        0.009387       -0.498385      2.289046           1  \n",
       "232          0.385167        4.058697     -0.811719           0  \n",
       "26802        0.701661       -0.498385      0.067480           1  "
      ]
     },
     "execution_count": 22,
     "metadata": {},
     "output_type": "execute_result"
    }
   ],
   "source": [
    "final_data.sample(5)"
   ]
  },
  {
   "cell_type": "markdown",
   "metadata": {},
   "source": [
    "## Food for thought:\n",
    "Now that you've done clustering with various numbers of clusters, it appears that the data acutally does break evenly into 2 clusters.  Take a look at the original data and see if you can come up with a reason why that is the case."
   ]
  },
  {
   "cell_type": "markdown",
   "metadata": {
    "collapsed": true
   },
   "source": [
    "## Visualizing Performance\n",
    "As we already know, it is difficult to measure the performance of clustering models since there usually is no known ground truth from which to evaluate your model.  However, there are two techniques which \n",
    "\n",
    "The K-Elbow Visualizer implements the “elbow” method of selecting the optimal number of clusters for K-means clustering. K-means is a simple unsupervised machine learning algorithm that groups data into a specified number (k) of clusters. Because the user must specify in advance what k to choose, the algorithm is somewhat naive – it assigns all members to k clusters even if that is not the right k for the dataset.\n",
    "\n",
    "The elbow method runs k-means clustering on the dataset for a range of values for k (say from 1-10) and then for each value of k computes an average score for all clusters. By default, the distortion_score is computed, the sum of square distances from each point to its assigned center. Other metrics can also be used such as the silhouette_score, the mean silhouette coefficient for all samples or the calinski_harabaz_score, which computes the ratio of dispersion between and within clusters.\n",
    "\n",
    "When these overall metrics for each model are plotted, it is possible to visually determine the best value for K. If the line chart looks like an arm, then the “elbow” (the point of inflection on the curve) is the best value of k. The “arm” can be either up or down, but if there is a strong inflection point, it is a good indication that the underlying model fits best at that point. (http://www.scikit-yb.org/en/latest/api/cluster/elbow.html)\n",
    "\n",
    "In python there is a module called `YellowBrick` which facilitates visualizing the K-Elbow score.  All of YellowBrick's visualizations follow essentually the same pattern:\n",
    "\n",
    "1.  Create the Visualizer Object\n",
    "2.  Call the `.fit()` method using the data\n",
    "3.  Call the `.poof()` method to render the visualization\n",
    "\n",
    "The snippet below demonstrates how to use the elbow method to visualize the clustering model's performance on this dataset.\n",
    "```python\n",
    "visualizer = KElbowVisualizer(KMeans(), k=(4,12))\n",
    "\n",
    "visualizer.fit( feature_matrix ) \n",
    "visualizer.poof()\n",
    "```\n",
    "\n",
    "### Your Turn!\n",
    "In the box below, create a visualization using the elbow method to see if there are any inflection points in the distortion score."
   ]
  },
  {
   "cell_type": "code",
   "execution_count": 23,
   "metadata": {
    "ExecuteTime": {
     "end_time": "2020-07-30T14:50:58.454328Z",
     "start_time": "2020-07-30T14:50:45.270908Z"
    },
    "run_control": {
     "frozen": false,
     "read_only": false
    }
   },
   "outputs": [
    {
     "data": {
      "image/png": "[encoded data removed]",
      "text/plain": [
       "<Figure size 432x288 with 2 Axes>"
      ]
     },
     "metadata": {},
     "output_type": "display_data"
    },
    {
     "data": {
      "text/plain": [
       "<matplotlib.axes._subplots.AxesSubplot at 0x7fc53a055110>"
      ]
     },
     "execution_count": 23,
     "metadata": {},
     "output_type": "execute_result"
    }
   ],
   "source": [
    "# Your code here...\n",
    "visualizer = KElbowVisualizer( KMeans(), k=(4,12), metric='silhouette')\n",
    "\n",
    "visualizer.fit(final_data[scaled_feature_columns].sample(10000))\n",
    "visualizer.show()"
   ]
  },
  {
   "cell_type": "markdown",
   "metadata": {},
   "source": [
    "## Another Way to Visualize Clustering Performance\n",
    "The Silhouette Coefficient is used when the ground-truth about the dataset is unknown and computes the density of clusters computed by the model. The score is computed by averaging the silhouette coefficient for each sample, computed as the difference between the average intra-cluster distance and the mean nearest-cluster distance for each sample, normalized by the maximum value. This produces a score between 1 and -1, where 1 is highly dense clusters and -1 is completely incorrect clustering. (http://www.scikit-yb.org/en/latest/api/cluster/silhouette.html)\n",
    "\n",
    "\n",
    "### Your Turn!\n",
    "Using the YellowBrick `SilhouetteVisualizer`, try visualizing models with various values of `K`.\n",
    "\n",
    "**Note**:  This visualization is quite expensive, so I recommend performing this using a sample o your original data."
   ]
  },
  {
   "cell_type": "code",
   "execution_count": 24,
   "metadata": {
    "ExecuteTime": {
     "end_time": "2020-07-30T14:51:20.839427Z",
     "start_time": "2020-07-30T14:51:17.730155Z"
    },
    "run_control": {
     "frozen": false,
     "read_only": false
    }
   },
   "outputs": [
    {
     "data": {
      "image/png": "[encoded data removed]",
      "text/plain": [
       "<Figure size 432x288 with 1 Axes>"
      ]
     },
     "metadata": {
      "needs_background": "light"
     },
     "output_type": "display_data"
    },
    {
     "data": {
      "text/plain": [
       "<matplotlib.axes._subplots.AxesSubplot at 0x7fc508b58610>"
      ]
     },
     "execution_count": 24,
     "metadata": {},
     "output_type": "execute_result"
    }
   ],
   "source": [
    "# Your code here...\n",
    "visualizer = SilhouetteVisualizer( KMeans(n_clusters=2))\n",
    "\n",
    "visualizer.fit(final_data[scaled_feature_columns].sample(10000))\n",
    "visualizer.show()"
   ]
  },
  {
   "cell_type": "markdown",
   "metadata": {
    "collapsed": true
   },
   "source": [
    "## DBSCAN\n",
    "Now that you've tried K-Means, let's try doing some clustering using DBSCAN (http://scikit-learn.org/stable/modules/generated/sklearn.cluster.DBSCAN.html).  Remember that the main tuning parameters for DBSCAN are:\n",
    "\n",
    "* **epsilon (eps)**:  The minimum distance between two samples \n",
    "* **min_samples**:  The minimum number of samples needed to form a neighborhood\n",
    "\n",
    "By default epsilon is 0.5 and the min_samples is 5. First, try DBSCAN with the default options.  If you use the `fit_predict()` function, you can save the results in a new column in your data.  \n",
    "\n",
    "How did this compare with K-Means?  Given that you actually know what the data really is, how did DBSCAN do in terms of identifing meaningful clusters?  Look at the `dsrc` column and do `value_counts()` for the various neighhborhoods.  What did you notice?\n",
    "\n",
    "Try again, but this time experiment with the values of epsilon and min_samples and see what DBSCAN comes up with. "
   ]
  },
  {
   "cell_type": "code",
   "execution_count": 26,
   "metadata": {
    "ExecuteTime": {
     "end_time": "2022-12-06T16:37:58.711881Z",
     "start_time": "2022-12-06T16:37:58.709035Z"
    },
    "run_control": {
     "frozen": false,
     "read_only": false
    }
   },
   "outputs": [],
   "source": [
    "dbscan = DBSCAN(min_samples=50)"
   ]
  },
  {
   "cell_type": "code",
   "execution_count": 27,
   "metadata": {
    "ExecuteTime": {
     "end_time": "2022-12-06T16:38:05.867048Z",
     "start_time": "2022-12-06T16:37:59.900095Z"
    },
    "run_control": {
     "frozen": false,
     "read_only": false
    }
   },
   "outputs": [],
   "source": [
    "final_data['dbs_default'] = dbscan.fit_predict(final_data[scaled_feature_columns])"
   ]
  },
  {
   "cell_type": "code",
   "execution_count": 28,
   "metadata": {
    "ExecuteTime": {
     "end_time": "2022-12-06T16:38:05.935674Z",
     "start_time": "2022-12-06T16:38:05.929144Z"
    },
    "run_control": {
     "frozen": false,
     "read_only": false
    }
   },
   "outputs": [
    {
     "data": {
      "text/plain": [
       " 1    39301\n",
       " 2     9973\n",
       " 0     2500\n",
       "-1      284\n",
       " 4      259\n",
       " 3      116\n",
       " 5       45\n",
       "Name: dbs_default, dtype: int64"
      ]
     },
     "execution_count": 28,
     "metadata": {},
     "output_type": "execute_result"
    }
   ],
   "source": [
    "final_data['dbs_default'].value_counts()"
   ]
  },
  {
   "cell_type": "code",
   "execution_count": 30,
   "metadata": {
    "ExecuteTime": {
     "end_time": "2022-12-06T16:38:53.679151Z",
     "start_time": "2022-12-06T16:38:53.666096Z"
    },
    "run_control": {
     "frozen": false,
     "read_only": false
    }
   },
   "outputs": [
    {
     "data": {
      "text/plain": [
       "cryptolocker    10000\n",
       "necurs           9990\n",
       "nivdort          9978\n",
       "alexa            9330\n",
       "gameoverdga         3\n",
       "Name: dsrc, dtype: int64"
      ]
     },
     "execution_count": 30,
     "metadata": {},
     "output_type": "execute_result"
    }
   ],
   "source": [
    "final_data[final_data['dbs_default'] == 1 ]['dsrc'].value_counts()"
   ]
  },
  {
   "cell_type": "code",
   "execution_count": 33,
   "metadata": {
    "ExecuteTime": {
     "end_time": "2022-12-06T16:40:03.133932Z",
     "start_time": "2022-12-06T16:40:03.114816Z"
    }
   },
   "outputs": [
    {
     "data": {
      "text/html": [
       "<div>\n",
       "<style scoped>\n",
       "    .dataframe tbody tr th:only-of-type {\n",
       "        vertical-align: middle;\n",
       "    }\n",
       "\n",
       "    .dataframe tbody tr th {\n",
       "        vertical-align: top;\n",
       "    }\n",
       "\n",
       "    .dataframe thead th {\n",
       "        text-align: right;\n",
       "    }\n",
       "</style>\n",
       "<table border=\"1\" class=\"dataframe\">\n",
       "  <thead>\n",
       "    <tr style=\"text-align: right;\">\n",
       "      <th></th>\n",
       "      <th>dsrc</th>\n",
       "      <th>domain</th>\n",
       "    </tr>\n",
       "  </thead>\n",
       "  <tbody>\n",
       "    <tr>\n",
       "      <th>7694</th>\n",
       "      <td>cryptolocker</td>\n",
       "      <td>hiogbwihymnvx</td>\n",
       "    </tr>\n",
       "    <tr>\n",
       "      <th>3940</th>\n",
       "      <td>cryptolocker</td>\n",
       "      <td>iwqxswfdbslu</td>\n",
       "    </tr>\n",
       "    <tr>\n",
       "      <th>33448</th>\n",
       "      <td>nivdort</td>\n",
       "      <td>visitouter</td>\n",
       "    </tr>\n",
       "    <tr>\n",
       "      <th>31827</th>\n",
       "      <td>necurs</td>\n",
       "      <td>uuodxyekdlcakcwfr</td>\n",
       "    </tr>\n",
       "    <tr>\n",
       "      <th>30623</th>\n",
       "      <td>necurs</td>\n",
       "      <td>iocgirsmhfj</td>\n",
       "    </tr>\n",
       "    <tr>\n",
       "      <th>11294</th>\n",
       "      <td>cryptolocker</td>\n",
       "      <td>sakpkiokwckprg</td>\n",
       "    </tr>\n",
       "    <tr>\n",
       "      <th>9340</th>\n",
       "      <td>cryptolocker</td>\n",
       "      <td>iujyixokiwwiwf</td>\n",
       "    </tr>\n",
       "    <tr>\n",
       "      <th>11902</th>\n",
       "      <td>cryptolocker</td>\n",
       "      <td>lvcdhdsatlitn</td>\n",
       "    </tr>\n",
       "    <tr>\n",
       "      <th>2708</th>\n",
       "      <td>cryptolocker</td>\n",
       "      <td>rxqntusvfhsry</td>\n",
       "    </tr>\n",
       "    <tr>\n",
       "      <th>45772</th>\n",
       "      <td>alexa</td>\n",
       "      <td>hankyu</td>\n",
       "    </tr>\n",
       "  </tbody>\n",
       "</table>\n",
       "</div>"
      ],
      "text/plain": [
       "               dsrc             domain\n",
       "7694   cryptolocker      hiogbwihymnvx\n",
       "3940   cryptolocker       iwqxswfdbslu\n",
       "33448       nivdort         visitouter\n",
       "31827        necurs  uuodxyekdlcakcwfr\n",
       "30623        necurs        iocgirsmhfj\n",
       "11294  cryptolocker     sakpkiokwckprg\n",
       "9340   cryptolocker     iujyixokiwwiwf\n",
       "11902  cryptolocker      lvcdhdsatlitn\n",
       "2708   cryptolocker      rxqntusvfhsry\n",
       "45772         alexa             hankyu"
      ]
     },
     "execution_count": 33,
     "metadata": {},
     "output_type": "execute_result"
    }
   ],
   "source": [
    "final_data[final_data['dbs_default'] == 1 ][['dsrc','domain']].sample(10)"
   ]
  },
  {
   "cell_type": "code",
   "execution_count": 29,
   "metadata": {
    "ExecuteTime": {
     "end_time": "2020-07-30T14:51:30.585926Z",
     "start_time": "2020-07-30T14:51:30.580365Z"
    }
   },
   "outputs": [
    {
     "data": {
      "text/plain": [
       "44256          alexa\n",
       "52147          alexa\n",
       "47007          alexa\n",
       "48689          alexa\n",
       "50233          alexa\n",
       "46638          alexa\n",
       "50159          alexa\n",
       "45624          alexa\n",
       "49991          alexa\n",
       "16105    gameoverdga\n",
       "Name: dsrc, dtype: object"
      ]
     },
     "execution_count": 29,
     "metadata": {},
     "output_type": "execute_result"
    }
   ],
   "source": [
    "final_data[final_data['dbs_default'] == -1 ]['dsrc'].sample(10)"
   ]
  },
  {
   "cell_type": "code",
   "execution_count": 30,
   "metadata": {
    "ExecuteTime": {
     "end_time": "2020-07-30T14:51:30.646160Z",
     "start_time": "2020-07-30T14:51:30.638084Z"
    }
   },
   "outputs": [
    {
     "data": {
      "text/plain": [
       "41831     spokedont\n",
       "37995     deadseven\n",
       "34792      wishback\n",
       "37773    wentaugust\n",
       "34707    frontbelow\n",
       "Name: domain, dtype: object"
      ]
     },
     "execution_count": 30,
     "metadata": {},
     "output_type": "execute_result"
    }
   ],
   "source": [
    "final_data['domain'][final_data['dsrc'] == \"nivdort\"].sample(5)"
   ]
  },
  {
   "cell_type": "code",
   "execution_count": 31,
   "metadata": {
    "ExecuteTime": {
     "end_time": "2020-07-30T14:51:30.705690Z",
     "start_time": "2020-07-30T14:51:30.697949Z"
    },
    "run_control": {
     "frozen": false,
     "read_only": false
    }
   },
   "outputs": [
    {
     "data": {
      "text/plain": [
       "gameoverdga    9973\n",
       "Name: dsrc, dtype: int64"
      ]
     },
     "execution_count": 31,
     "metadata": {},
     "output_type": "execute_result"
    }
   ],
   "source": [
    "final_data[final_data['dbs_default'] == 2 ]['dsrc'].value_counts()"
   ]
  },
  {
   "cell_type": "code",
   "execution_count": 32,
   "metadata": {
    "ExecuteTime": {
     "end_time": "2020-07-30T14:51:30.769842Z",
     "start_time": "2020-07-30T14:51:30.758552Z"
    }
   },
   "outputs": [
    {
     "data": {
      "text/plain": [
       "cryptolocker    10000\n",
       "necurs           9990\n",
       "nivdort          9978\n",
       "alexa            9330\n",
       "gameoverdga         3\n",
       "Name: dsrc, dtype: int64"
      ]
     },
     "execution_count": 32,
     "metadata": {},
     "output_type": "execute_result"
    }
   ],
   "source": [
    "final_data[final_data['dbs_default'] == 1 ]['dsrc'].value_counts()"
   ]
  },
  {
   "cell_type": "code",
   "execution_count": 33,
   "metadata": {
    "ExecuteTime": {
     "end_time": "2020-07-30T14:51:30.832842Z",
     "start_time": "2020-07-30T14:51:30.823509Z"
    }
   },
   "outputs": [
    {
     "data": {
      "text/plain": [
       "7840        anmkkwdwkbih\n",
       "10693       uyrheeekbtlf\n",
       "2647       fqfymnbofsisw\n",
       "5349      sshtidiwrsvdjf\n",
       "8822        ayirbvukogpc\n",
       "10553       kknpqpwuadsp\n",
       "10283     ayoqsyliwlxxyi\n",
       "11482    yhumcgqmqfunvxm\n",
       "9614        hkjlhqmscshp\n",
       "9885       ghtvthxssuyft\n",
       "Name: domain, dtype: object"
      ]
     },
     "execution_count": 33,
     "metadata": {},
     "output_type": "execute_result"
    }
   ],
   "source": [
    "final_data[final_data['dsrc'] == \"cryptolocker\"]['domain'].sample(10)"
   ]
  },
  {
   "cell_type": "code",
   "execution_count": 34,
   "metadata": {
    "ExecuteTime": {
     "end_time": "2020-07-30T14:51:30.898689Z",
     "start_time": "2020-07-30T14:51:30.889453Z"
    }
   },
   "outputs": [
    {
     "data": {
      "text/plain": [
       "29766            qioeeyqsiktbp\n",
       "28356               ojuikitbde\n",
       "25770    hbllxhcsuqahbrgqaklvv\n",
       "32162    pogaqaholvqwiftgxlkwx\n",
       "27290         owqgjbbggfgbxxvw\n",
       "29127         eenhauhwdfaghgbb\n",
       "29003     uvuhfalslxumlnrgykge\n",
       "22728      fwrnwglywteekyuwhyp\n",
       "22930                 igambhub\n",
       "29661         sjnddpwbdkpvftma\n",
       "Name: domain, dtype: object"
      ]
     },
     "execution_count": 34,
     "metadata": {},
     "output_type": "execute_result"
    }
   ],
   "source": [
    "final_data[final_data['dsrc'] == \"necurs\"]['domain'].sample(10)"
   ]
  },
  {
   "cell_type": "code",
   "execution_count": null,
   "metadata": {},
   "outputs": [],
   "source": []
  }
 ],
 "metadata": {
  "kernelspec": {
   "display_name": "Python 3 (ipykernel)",
   "language": "python",
   "name": "python3"
  },
  "language_info": {
   "codemirror_mode": {
    "name": "ipython",
    "version": 3
   },
   "file_extension": ".py",
   "mimetype": "text/x-python",
   "name": "python",
   "nbconvert_exporter": "python",
   "pygments_lexer": "ipython3",
   "version": "3.9.15"
  },
  "toc": {
   "base_numbering": 1,
   "nav_menu": {},
   "number_sections": false,
   "sideBar": false,
   "skip_h1_title": false,
   "title_cell": "Table of Contents",
   "title_sidebar": "Contents",
   "toc_cell": false,
   "toc_position": {},
   "toc_section_display": false,
   "toc_window_display": false
  },
  "varInspector": {
   "cols": {
    "lenName": 16,
    "lenType": 16,
    "lenVar": 40
   },
   "kernels_config": {
    "python": {
     "delete_cmd_postfix": "",
     "delete_cmd_prefix": "del ",
     "library": "var_list.py",
     "varRefreshCmd": "print(var_dic_list())"
    },
    "r": {
     "delete_cmd_postfix": ") ",
     "delete_cmd_prefix": "rm(",
     "library": "var_list.r",
     "varRefreshCmd": "cat(var_dic_list()) "
    }
   },
   "types_to_exclude": [
    "module",
    "function",
    "builtin_function_or_method",
    "instance",
    "_Feature"
   ],
   "window_display": false
  }
 },
 "nbformat": 4,
 "nbformat_minor": 2
}
